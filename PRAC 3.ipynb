{
 "cells": [
  {
   "cell_type": "markdown",
   "id": "6cb30741",
   "metadata": {},
   "source": [
    "# Write a Python/Java code to find the Similarity value of a given sequences. Take the sequence from user."
   ]
  },
  {
   "cell_type": "code",
   "execution_count": 2,
   "id": "ef045af0",
   "metadata": {},
   "outputs": [
    {
     "name": "stdout",
     "output_type": "stream",
     "text": [
      "Enter the first sequence: abcdefgh\n",
      "Enter the second sequence: ijklmnop\n",
      "How many elements for similarity condition?2\n",
      "Enter an element: a\n",
      "How many elements is it similar to? 1\n",
      "What is it similar to? i\n",
      "Enter an element: c\n",
      "How many elements is it similar to? 1\n",
      "What is it similar to? k\n",
      "['a', 'b', 'c', 'd', 'e', 'f', 'g', 'h']\n",
      "['i', 'j', 'k', 'l', 'm', 'n', 'o', 'p']\n",
      "[['a', 'i'], ['c', 'k']]\n",
      "25.0 %\n"
     ]
    }
   ],
   "source": [
    "sequence_one=input(\"Enter the first sequence: \")\n",
    "sequence_two=input(\"Enter the second sequence: \")\n",
    "how_many=int(input(\"How many elements for similarity condition?\"))\n",
    "similarities=[]\n",
    "\n",
    "for i in range(0,how_many):\n",
    "    a=input(\"Enter an element: \")\n",
    "    c=int(input(\"How many elements is it similar to? \"))\n",
    "    similarities.append([])\n",
    "    similarities[i].append(a)\n",
    "\n",
    "    for j in range(0,c):\n",
    "        b=input(\"What is it similar to? \")\n",
    "        similarities[i].append(b)\n",
    "\n",
    "def compare(o,t,s):\n",
    "    print(o)\n",
    "    print(t)\n",
    "    print(s)\n",
    "    score=0\n",
    "    for i in range(len(o)):\n",
    "        for j in range(len(s)):\n",
    "            if o[i] in s[j] and t[i] in s[j] and o[i] != t[i]:\n",
    "                score+=1\n",
    "    similarity= (score*100)/len(o)\n",
    "    return similarity\n",
    "\n",
    "print(compare(list(sequence_one),list(sequence_two),similarities),\"%\")"
   ]
  },
  {
   "cell_type": "code",
   "execution_count": null,
   "id": "f5014cac",
   "metadata": {},
   "outputs": [],
   "source": []
  },
  {
   "cell_type": "code",
   "execution_count": null,
   "id": "d1396a05",
   "metadata": {},
   "outputs": [],
   "source": []
  }
 ],
 "metadata": {
  "kernelspec": {
   "display_name": "Python 3 (ipykernel)",
   "language": "python",
   "name": "python3"
  },
  "language_info": {
   "codemirror_mode": {
    "name": "ipython",
    "version": 3
   },
   "file_extension": ".py",
   "mimetype": "text/x-python",
   "name": "python",
   "nbconvert_exporter": "python",
   "pygments_lexer": "ipython3",
   "version": "3.10.0"
  }
 },
 "nbformat": 4,
 "nbformat_minor": 5
}
