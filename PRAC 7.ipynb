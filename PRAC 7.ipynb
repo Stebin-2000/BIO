{
 "cells": [
  {
   "cell_type": "code",
   "execution_count": null,
   "id": "1236b8dc",
   "metadata": {},
   "outputs": [],
   "source": [
    "file=open(\"genes.txt\",\"r\")\n",
    "r=file.read()\n",
    "size=len(r)\n",
    "score_A=0\n",
    "score_C=0\n",
    "score_T=0\n",
    "score_G=0\n",
    "for i in range(size):\n",
    "    if(r[i]=='A'):\n",
    "        score_A+=1\n",
    "    elif (r[i]=='C'):\n",
    "        score_C+=1\n",
    "    elif (r[i]=='T'):\n",
    "        score_T+=1\n",
    "    elif (r[i]=='G'):\n",
    "        score_G+=1\n",
    "print(\"score of A is \",score_A)\n",
    "print(\"score of C is \",score_C)\n",
    "print(\"score of T is \",score_T)\n",
    "print(\"score of G is \",score_G)"
   ]
  }
 ],
 "metadata": {
  "kernelspec": {
   "display_name": "Python 3 (ipykernel)",
   "language": "python",
   "name": "python3"
  },
  "language_info": {
   "codemirror_mode": {
    "name": "ipython",
    "version": 3
   },
   "file_extension": ".py",
   "mimetype": "text/x-python",
   "name": "python",
   "nbconvert_exporter": "python",
   "pygments_lexer": "ipython3",
   "version": "3.10.0"
  }
 },
 "nbformat": 4,
 "nbformat_minor": 5
}
