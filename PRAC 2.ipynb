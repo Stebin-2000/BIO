{
 "cells": [
  {
   "cell_type": "markdown",
   "id": "4af47bdd",
   "metadata": {},
   "source": [
    "# Write a Python/Java code to find the identity value of a given sequences. Take the sequence from user."
   ]
  },
  {
   "cell_type": "code",
   "execution_count": 1,
   "id": "c078f229",
   "metadata": {},
   "outputs": [
    {
     "name": "stdout",
     "output_type": "stream",
     "text": [
      "Enter the first sequence: abcdef\n",
      "Enter the second sequence: adcgry\n",
      "\n",
      "['a', 'b', 'c', 'd', 'e', 'f']\n",
      "['a', 'd', 'c', 'g', 'r', 'y']\n",
      "Matching Score:: 3\n",
      "Identity of the sequences:: 8.333333333333332\n"
     ]
    }
   ],
   "source": [
    "se1=input(\"Enter the first sequence: \")\n",
    "se2=input(\"Enter the second sequence: \")\n",
    "seq1=list(se1)\n",
    "seq2=list(se2)\n",
    "\n",
    "def find_identity(a,b):\n",
    "    gap(a,b)\n",
    "    print(a)\n",
    "    print(b)\n",
    "    score=0\n",
    "    length=len(a)\n",
    "    total_elements=len(a)*len(b)\n",
    "    for i in range(0,length):\n",
    "        for j in range(0,length):\n",
    "            if(a[i]==b[j]):\n",
    "                score=score+1\n",
    "    identity=(score/total_elements)*100\n",
    "    print(\"Matching Score::\",score)\n",
    "    print(\"Identity of the sequences::\",identity)\n",
    "\n",
    "def gap(a,b):\n",
    "    if(len(a)==len(b)):\n",
    "        print()\n",
    "    else:\n",
    "        k=int(input(\"enter the position to insert gap ::\"))\n",
    "        if (len(a)<len(b)):\n",
    "            a.insert(k,'-')\n",
    "        else:\n",
    "            b.insert(k,'-')\n",
    "    return(a,b)\n",
    "\n",
    "find_identity(seq1,seq2)"
   ]
  },
  {
   "cell_type": "code",
   "execution_count": null,
   "id": "421d1315",
   "metadata": {},
   "outputs": [],
   "source": []
  }
 ],
 "metadata": {
  "kernelspec": {
   "display_name": "Python 3 (ipykernel)",
   "language": "python",
   "name": "python3"
  },
  "language_info": {
   "codemirror_mode": {
    "name": "ipython",
    "version": 3
   },
   "file_extension": ".py",
   "mimetype": "text/x-python",
   "name": "python",
   "nbconvert_exporter": "python",
   "pygments_lexer": "ipython3",
   "version": "3.10.0"
  }
 },
 "nbformat": 4,
 "nbformat_minor": 5
}
